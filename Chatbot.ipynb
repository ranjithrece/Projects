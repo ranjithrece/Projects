{
  "nbformat": 4,
  "nbformat_minor": 0,
  "metadata": {
    "colab": {
      "name": "Chatbot.ipynb",
      "provenance": [],
      "mount_file_id": "1ZqeW__fg24Kugvqhx5Kuc9tLmG4X-vOg",
      "authorship_tag": "ABX9TyOtncDPzdFUAXobQlrytllm",
      "include_colab_link": true
    },
    "kernelspec": {
      "name": "python3",
      "display_name": "Python 3"
    },
    "language_info": {
      "name": "python"
    }
  },
  "cells": [
    {
      "cell_type": "markdown",
      "metadata": {
        "id": "view-in-github",
        "colab_type": "text"
      },
      "source": [
        "<a href=\"https://colab.research.google.com/github/ranjithrece/ranjithrece/blob/main/Chatbot.ipynb\" target=\"_parent\"><img src=\"https://colab.research.google.com/assets/colab-badge.svg\" alt=\"Open In Colab\"/></a>"
      ]
    },
    {
      "cell_type": "markdown",
      "metadata": {
        "id": "wxzll6n3nQ_8"
      },
      "source": [
        "#**Chatbot**\n",
        "\n",
        "we are going to built a Chatbot with [keras](https://keras.io/)\n",
        "\n",
        "You can get the predefined pattern and response  file here [download](https://drive.google.com/file/d/1v_kEDymTKR4YBsl1l6RLw4OHpXMuIQXz/view?usp=sharing) "
      ]
    },
    {
      "cell_type": "code",
      "metadata": {
        "id": "p7X2yQKnAcFO"
      },
      "source": [
        "#importing neccesary modules\n",
        "import nltk\n",
        "\n",
        "from nltk.stem import WordNetLemmatizer\n",
        "import numpy as np\n",
        "import json\n",
        "import pickle\n",
        "import random\n",
        "\n",
        "\n",
        "from keras.layers import Dense,Dropout\n",
        "from keras.models import Sequential"
      ],
      "execution_count": null,
      "outputs": []
    },
    {
      "cell_type": "code",
      "metadata": {
        "id": "7_GYdx9zCAIP"
      },
      "source": [
        "lem = WordNetLemmatizer()#create a inistane for lemmitizer\n",
        "intents = json.loads(open('intents.json').read())#loading the intents from json file\n",
        "\n",
        "#creating a empty list for seprating values\n",
        "words = []\n",
        "classes = set()\n",
        "docs = []\n",
        "ignore_wrds = ['?','!']\n"
      ],
      "execution_count": 93,
      "outputs": []
    },
    {
      "cell_type": "code",
      "metadata": {
        "id": "I1xnnSMXGMUk"
      },
      "source": [
        "#content - which type of question\n",
        "#pattern - user question\n",
        "#response - prestored response for user questions\n",
        "\n",
        "for intent in intents[\"intents\"]:#looping trough the intent \n",
        "  for pattern in intent['patterns']:\n",
        "\n",
        "    w = nltk.word_tokenize(pattern)# tokenizing the words\n",
        "    words.extend(w)\n",
        "\n",
        "    docs.append([w,intent['tag']])#creating a doc with tokenized words and their tag\n",
        "\n",
        "    classes.add(intent['tag'])"
      ],
      "execution_count": 94,
      "outputs": []
    },
    {
      "cell_type": "code",
      "metadata": {
        "id": "5GI11ljPJgMZ"
      },
      "source": [
        "words = [lem.lemmatize(w.lower()) for w in words if w not in ignore_wrds]#lemmatizing the words eg. running to the base form of -> run\n",
        "\n",
        "classes = sorted(list(classes))#extracting the unique values\n",
        "words = sorted(list(set(words)))"
      ],
      "execution_count": 95,
      "outputs": []
    },
    {
      "cell_type": "code",
      "metadata": {
        "id": "d2bRYHv4Ks_v"
      },
      "source": [
        "pickle.dump(words,open('words.pkl','wb'))#saving values in byte format\n",
        "pickle.dump(classes,open('classes.pkl','wb'))"
      ],
      "execution_count": 96,
      "outputs": []
    },
    {
      "cell_type": "code",
      "metadata": {
        "id": "xWqAt7LMONjK"
      },
      "source": [
        "#creating a bag of words(one-hot) for training\n",
        "training  = []\n",
        "\n",
        "\n",
        "for doc in docs:\n",
        "\n",
        "    bag =[]\n",
        "    pattern_wrds = doc[0] #extracting the text\n",
        "    pattern_wrds = [lem.lemmatize(word.lower()) for word in pattern_wrds] #lemmatizing it\n",
        "\n",
        "    for w in words:  #loop through the words and creating bag\n",
        "      bag.append(1) if w in pattern_wrds else bag.append(0)\n",
        "\n",
        "    out = np.zeros(len(words))\n",
        "  \n",
        "    out[classes.index(doc[1])] = 1 #assg 1 to the respective tag in classes\n",
        "\n",
        "    training.append([bag,out])#appending the bag of words and bag of tag \n",
        "random.shuffle(training)\n",
        "training = np.array(training)\n",
        "train_x = training[:,0]#bag of words\n",
        "train_y = training[:,1]#bag of tag"
      ],
      "execution_count": 97,
      "outputs": []
    },
    {
      "cell_type": "markdown",
      "metadata": {
        "id": "Wv2a4XZJqsAT"
      },
      "source": [
        "##Model"
      ]
    },
    {
      "cell_type": "code",
      "metadata": {
        "colab": {
          "base_uri": "https://localhost:8080/"
        },
        "id": "vA1gwQ1Nj5hB",
        "outputId": "ce86dc1b-373b-4bd5-f177-325dc408f2c5"
      },
      "source": [
        "model = Sequential(name='Chatbot_model')\n",
        "model.add(Dense(256,input_shape = (train_x.shape[1],),activation='relu'))\n",
        "model.add(Dropout(0.25))\n",
        "model.add(Dense(128,activation='relu'))\n",
        "model.add(Dropout(0.25))\n",
        "model.add(Dense(64,activation='relu'))\n",
        "model.add(Dropout(0.25))\n",
        "model.add(Dense(train_y.shape[1],activation = 'softmax'))\n",
        "\n",
        "model.summary()"
      ],
      "execution_count": 105,
      "outputs": [
        {
          "output_type": "stream",
          "text": [
            "Model: \"Chatbot_model\"\n",
            "_________________________________________________________________\n",
            "Layer (type)                 Output Shape              Param #   \n",
            "=================================================================\n",
            "dense_32 (Dense)             (None, 256)               22784     \n",
            "_________________________________________________________________\n",
            "dropout_23 (Dropout)         (None, 256)               0         \n",
            "_________________________________________________________________\n",
            "dense_33 (Dense)             (None, 128)               32896     \n",
            "_________________________________________________________________\n",
            "dropout_24 (Dropout)         (None, 128)               0         \n",
            "_________________________________________________________________\n",
            "dense_34 (Dense)             (None, 64)                8256      \n",
            "_________________________________________________________________\n",
            "dropout_25 (Dropout)         (None, 64)                0         \n",
            "_________________________________________________________________\n",
            "dense_35 (Dense)             (None, 88)                5720      \n",
            "=================================================================\n",
            "Total params: 69,656\n",
            "Trainable params: 69,656\n",
            "Non-trainable params: 0\n",
            "_________________________________________________________________\n"
          ],
          "name": "stdout"
        }
      ]
    },
    {
      "cell_type": "code",
      "metadata": {
        "colab": {
          "base_uri": "https://localhost:8080/"
        },
        "id": "XVzyjgGLlmwT",
        "outputId": "76f8b587-078f-4cd8-9a94-744f0f476f77"
      },
      "source": [
        "model.compile(optimizer='adam',loss = 'categorical_crossentropy',metrics=['accuracy'])\n",
        "\n",
        "hist = model.fit(train_x,train_y,epochs=200,batch_size=5)"
      ],
      "execution_count": 106,
      "outputs": [
        {
          "output_type": "stream",
          "text": [
            "Epoch 1/200\n",
            "10/10 [==============================] - 1s 3ms/step - loss: 4.4052 - accuracy: 0.0336 \n",
            "Epoch 2/200\n",
            "10/10 [==============================] - 0s 3ms/step - loss: 4.2498 - accuracy: 0.1166\n",
            "Epoch 3/200\n",
            "10/10 [==============================] - 0s 3ms/step - loss: 3.8597 - accuracy: 0.3660\n",
            "Epoch 4/200\n",
            "10/10 [==============================] - 0s 3ms/step - loss: 3.3791 - accuracy: 0.1190\n",
            "Epoch 5/200\n",
            "10/10 [==============================] - 0s 3ms/step - loss: 2.6294 - accuracy: 0.1986\n",
            "Epoch 6/200\n",
            "10/10 [==============================] - 0s 3ms/step - loss: 2.1400 - accuracy: 0.2412\n",
            "Epoch 7/200\n",
            "10/10 [==============================] - 0s 3ms/step - loss: 1.7255 - accuracy: 0.5439\n",
            "Epoch 8/200\n",
            "10/10 [==============================] - 0s 3ms/step - loss: 1.6240 - accuracy: 0.4913\n",
            "Epoch 9/200\n",
            "10/10 [==============================] - 0s 3ms/step - loss: 1.4196 - accuracy: 0.5876\n",
            "Epoch 10/200\n",
            "10/10 [==============================] - 0s 3ms/step - loss: 1.1540 - accuracy: 0.6666\n",
            "Epoch 11/200\n",
            "10/10 [==============================] - 0s 3ms/step - loss: 1.0287 - accuracy: 0.6861\n",
            "Epoch 12/200\n",
            "10/10 [==============================] - 0s 3ms/step - loss: 1.0452 - accuracy: 0.7262\n",
            "Epoch 13/200\n",
            "10/10 [==============================] - 0s 3ms/step - loss: 0.6553 - accuracy: 0.8637\n",
            "Epoch 14/200\n",
            "10/10 [==============================] - 0s 5ms/step - loss: 0.5455 - accuracy: 0.8413\n",
            "Epoch 15/200\n",
            "10/10 [==============================] - 0s 3ms/step - loss: 0.4414 - accuracy: 0.8722\n",
            "Epoch 16/200\n",
            "10/10 [==============================] - 0s 3ms/step - loss: 0.3115 - accuracy: 0.9864\n",
            "Epoch 17/200\n",
            "10/10 [==============================] - 0s 3ms/step - loss: 0.2914 - accuracy: 0.9827\n",
            "Epoch 18/200\n",
            "10/10 [==============================] - 0s 3ms/step - loss: 0.3656 - accuracy: 0.8906\n",
            "Epoch 19/200\n",
            "10/10 [==============================] - 0s 4ms/step - loss: 0.2269 - accuracy: 0.9630\n",
            "Epoch 20/200\n",
            "10/10 [==============================] - 0s 4ms/step - loss: 0.2483 - accuracy: 0.9006\n",
            "Epoch 21/200\n",
            "10/10 [==============================] - 0s 3ms/step - loss: 0.1574 - accuracy: 1.0000\n",
            "Epoch 22/200\n",
            "10/10 [==============================] - 0s 3ms/step - loss: 0.1360 - accuracy: 1.0000\n",
            "Epoch 23/200\n",
            "10/10 [==============================] - 0s 4ms/step - loss: 0.0563 - accuracy: 1.0000\n",
            "Epoch 24/200\n",
            "10/10 [==============================] - 0s 3ms/step - loss: 0.1278 - accuracy: 1.0000\n",
            "Epoch 25/200\n",
            "10/10 [==============================] - 0s 3ms/step - loss: 0.0670 - accuracy: 0.9864\n",
            "Epoch 26/200\n",
            "10/10 [==============================] - 0s 3ms/step - loss: 0.0872 - accuracy: 1.0000\n",
            "Epoch 27/200\n",
            "10/10 [==============================] - 0s 3ms/step - loss: 0.0751 - accuracy: 1.0000\n",
            "Epoch 28/200\n",
            "10/10 [==============================] - 0s 3ms/step - loss: 0.0576 - accuracy: 1.0000\n",
            "Epoch 29/200\n",
            "10/10 [==============================] - 0s 4ms/step - loss: 0.0577 - accuracy: 1.0000\n",
            "Epoch 30/200\n",
            "10/10 [==============================] - 0s 3ms/step - loss: 0.0360 - accuracy: 1.0000\n",
            "Epoch 31/200\n",
            "10/10 [==============================] - 0s 4ms/step - loss: 0.0283 - accuracy: 1.0000\n",
            "Epoch 32/200\n",
            "10/10 [==============================] - 0s 3ms/step - loss: 0.0486 - accuracy: 1.0000\n",
            "Epoch 33/200\n",
            "10/10 [==============================] - 0s 3ms/step - loss: 0.0167 - accuracy: 1.0000\n",
            "Epoch 34/200\n",
            "10/10 [==============================] - 0s 3ms/step - loss: 0.0528 - accuracy: 1.0000\n",
            "Epoch 35/200\n",
            "10/10 [==============================] - 0s 3ms/step - loss: 0.0315 - accuracy: 1.0000\n",
            "Epoch 36/200\n",
            "10/10 [==============================] - 0s 3ms/step - loss: 0.0218 - accuracy: 1.0000\n",
            "Epoch 37/200\n",
            "10/10 [==============================] - 0s 3ms/step - loss: 0.0147 - accuracy: 1.0000\n",
            "Epoch 38/200\n",
            "10/10 [==============================] - 0s 4ms/step - loss: 0.0090 - accuracy: 1.0000\n",
            "Epoch 39/200\n",
            "10/10 [==============================] - 0s 3ms/step - loss: 0.0069 - accuracy: 1.0000\n",
            "Epoch 40/200\n",
            "10/10 [==============================] - 0s 3ms/step - loss: 0.0271 - accuracy: 0.9864\n",
            "Epoch 41/200\n",
            "10/10 [==============================] - 0s 4ms/step - loss: 0.0149 - accuracy: 1.0000\n",
            "Epoch 42/200\n",
            "10/10 [==============================] - 0s 3ms/step - loss: 0.0523 - accuracy: 1.0000\n",
            "Epoch 43/200\n",
            "10/10 [==============================] - 0s 3ms/step - loss: 0.0265 - accuracy: 1.0000\n",
            "Epoch 44/200\n",
            "10/10 [==============================] - 0s 5ms/step - loss: 0.0304 - accuracy: 1.0000\n",
            "Epoch 45/200\n",
            "10/10 [==============================] - 0s 4ms/step - loss: 0.0103 - accuracy: 1.0000\n",
            "Epoch 46/200\n",
            "10/10 [==============================] - 0s 3ms/step - loss: 0.0078 - accuracy: 1.0000\n",
            "Epoch 47/200\n",
            "10/10 [==============================] - 0s 3ms/step - loss: 0.0107 - accuracy: 1.0000\n",
            "Epoch 48/200\n",
            "10/10 [==============================] - 0s 3ms/step - loss: 0.0107 - accuracy: 1.0000\n",
            "Epoch 49/200\n",
            "10/10 [==============================] - 0s 3ms/step - loss: 0.0335 - accuracy: 1.0000\n",
            "Epoch 50/200\n",
            "10/10 [==============================] - 0s 3ms/step - loss: 0.0110 - accuracy: 1.0000\n",
            "Epoch 51/200\n",
            "10/10 [==============================] - 0s 3ms/step - loss: 0.0057 - accuracy: 1.0000\n",
            "Epoch 52/200\n",
            "10/10 [==============================] - 0s 4ms/step - loss: 0.0084 - accuracy: 1.0000\n",
            "Epoch 53/200\n",
            "10/10 [==============================] - 0s 3ms/step - loss: 0.0041 - accuracy: 1.0000\n",
            "Epoch 54/200\n",
            "10/10 [==============================] - 0s 3ms/step - loss: 0.0103 - accuracy: 1.0000\n",
            "Epoch 55/200\n",
            "10/10 [==============================] - 0s 3ms/step - loss: 0.0068 - accuracy: 1.0000\n",
            "Epoch 56/200\n",
            "10/10 [==============================] - 0s 4ms/step - loss: 0.0159 - accuracy: 1.0000\n",
            "Epoch 57/200\n",
            "10/10 [==============================] - 0s 4ms/step - loss: 0.0085 - accuracy: 1.0000\n",
            "Epoch 58/200\n",
            "10/10 [==============================] - 0s 3ms/step - loss: 0.0066 - accuracy: 1.0000\n",
            "Epoch 59/200\n",
            "10/10 [==============================] - 0s 4ms/step - loss: 0.0097 - accuracy: 1.0000\n",
            "Epoch 60/200\n",
            "10/10 [==============================] - 0s 3ms/step - loss: 0.0085 - accuracy: 1.0000\n",
            "Epoch 61/200\n",
            "10/10 [==============================] - 0s 3ms/step - loss: 0.0115 - accuracy: 1.0000\n",
            "Epoch 62/200\n",
            "10/10 [==============================] - 0s 3ms/step - loss: 0.0034 - accuracy: 1.0000\n",
            "Epoch 63/200\n",
            "10/10 [==============================] - 0s 3ms/step - loss: 0.0042 - accuracy: 1.0000\n",
            "Epoch 64/200\n",
            "10/10 [==============================] - 0s 4ms/step - loss: 0.0051 - accuracy: 1.0000\n",
            "Epoch 65/200\n",
            "10/10 [==============================] - 0s 3ms/step - loss: 0.0016 - accuracy: 1.0000\n",
            "Epoch 66/200\n",
            "10/10 [==============================] - 0s 3ms/step - loss: 0.0039 - accuracy: 1.0000\n",
            "Epoch 67/200\n",
            "10/10 [==============================] - 0s 3ms/step - loss: 0.0090 - accuracy: 1.0000\n",
            "Epoch 68/200\n",
            "10/10 [==============================] - 0s 3ms/step - loss: 0.0018 - accuracy: 1.0000\n",
            "Epoch 69/200\n",
            "10/10 [==============================] - 0s 3ms/step - loss: 0.0071 - accuracy: 1.0000\n",
            "Epoch 70/200\n",
            "10/10 [==============================] - 0s 3ms/step - loss: 0.0118 - accuracy: 1.0000\n",
            "Epoch 71/200\n",
            "10/10 [==============================] - 0s 3ms/step - loss: 0.0028 - accuracy: 1.0000\n",
            "Epoch 72/200\n",
            "10/10 [==============================] - 0s 4ms/step - loss: 0.0114 - accuracy: 1.0000\n",
            "Epoch 73/200\n",
            "10/10 [==============================] - 0s 3ms/step - loss: 0.0028 - accuracy: 1.0000\n",
            "Epoch 74/200\n",
            "10/10 [==============================] - 0s 4ms/step - loss: 0.0064 - accuracy: 1.0000\n",
            "Epoch 75/200\n",
            "10/10 [==============================] - 0s 3ms/step - loss: 0.0052 - accuracy: 1.0000\n",
            "Epoch 76/200\n",
            "10/10 [==============================] - 0s 3ms/step - loss: 0.0028 - accuracy: 1.0000\n",
            "Epoch 77/200\n",
            "10/10 [==============================] - 0s 4ms/step - loss: 0.0111 - accuracy: 1.0000\n",
            "Epoch 78/200\n",
            "10/10 [==============================] - 0s 3ms/step - loss: 0.0072 - accuracy: 1.0000\n",
            "Epoch 79/200\n",
            "10/10 [==============================] - 0s 3ms/step - loss: 0.0051 - accuracy: 1.0000\n",
            "Epoch 80/200\n",
            "10/10 [==============================] - 0s 3ms/step - loss: 0.0032 - accuracy: 1.0000\n",
            "Epoch 81/200\n",
            "10/10 [==============================] - 0s 3ms/step - loss: 0.0064 - accuracy: 1.0000\n",
            "Epoch 82/200\n",
            "10/10 [==============================] - 0s 3ms/step - loss: 0.0026 - accuracy: 1.0000\n",
            "Epoch 83/200\n",
            "10/10 [==============================] - 0s 3ms/step - loss: 0.0027 - accuracy: 1.0000\n",
            "Epoch 84/200\n",
            "10/10 [==============================] - 0s 4ms/step - loss: 0.0106 - accuracy: 1.0000\n",
            "Epoch 85/200\n",
            "10/10 [==============================] - 0s 4ms/step - loss: 0.0056 - accuracy: 1.0000\n",
            "Epoch 86/200\n",
            "10/10 [==============================] - 0s 3ms/step - loss: 0.0021 - accuracy: 1.0000\n",
            "Epoch 87/200\n",
            "10/10 [==============================] - 0s 3ms/step - loss: 0.0100 - accuracy: 1.0000\n",
            "Epoch 88/200\n",
            "10/10 [==============================] - 0s 4ms/step - loss: 0.0054 - accuracy: 1.0000\n",
            "Epoch 89/200\n",
            "10/10 [==============================] - 0s 3ms/step - loss: 0.0028 - accuracy: 1.0000\n",
            "Epoch 90/200\n",
            "10/10 [==============================] - 0s 3ms/step - loss: 0.0014 - accuracy: 1.0000\n",
            "Epoch 91/200\n",
            "10/10 [==============================] - 0s 3ms/step - loss: 0.0011 - accuracy: 1.0000\n",
            "Epoch 92/200\n",
            "10/10 [==============================] - 0s 4ms/step - loss: 0.0018 - accuracy: 1.0000\n",
            "Epoch 93/200\n",
            "10/10 [==============================] - 0s 3ms/step - loss: 0.0033 - accuracy: 1.0000\n",
            "Epoch 94/200\n",
            "10/10 [==============================] - 0s 3ms/step - loss: 8.9135e-04 - accuracy: 1.0000\n",
            "Epoch 95/200\n",
            "10/10 [==============================] - 0s 3ms/step - loss: 0.0021 - accuracy: 1.0000\n",
            "Epoch 96/200\n",
            "10/10 [==============================] - 0s 3ms/step - loss: 9.7289e-04 - accuracy: 1.0000\n",
            "Epoch 97/200\n",
            "10/10 [==============================] - 0s 3ms/step - loss: 0.0020 - accuracy: 1.0000\n",
            "Epoch 98/200\n",
            "10/10 [==============================] - 0s 3ms/step - loss: 0.0028 - accuracy: 1.0000\n",
            "Epoch 99/200\n",
            "10/10 [==============================] - 0s 3ms/step - loss: 0.0043 - accuracy: 1.0000\n",
            "Epoch 100/200\n",
            "10/10 [==============================] - 0s 4ms/step - loss: 0.0018 - accuracy: 1.0000\n",
            "Epoch 101/200\n",
            "10/10 [==============================] - 0s 3ms/step - loss: 0.0020 - accuracy: 1.0000\n",
            "Epoch 102/200\n",
            "10/10 [==============================] - 0s 4ms/step - loss: 0.0012 - accuracy: 1.0000\n",
            "Epoch 103/200\n",
            "10/10 [==============================] - 0s 3ms/step - loss: 9.4287e-04 - accuracy: 1.0000\n",
            "Epoch 104/200\n",
            "10/10 [==============================] - 0s 3ms/step - loss: 0.0022 - accuracy: 1.0000\n",
            "Epoch 105/200\n",
            "10/10 [==============================] - 0s 3ms/step - loss: 0.0020 - accuracy: 1.0000\n",
            "Epoch 106/200\n",
            "10/10 [==============================] - 0s 3ms/step - loss: 0.0011 - accuracy: 1.0000\n",
            "Epoch 107/200\n",
            "10/10 [==============================] - 0s 3ms/step - loss: 0.0015 - accuracy: 1.0000\n",
            "Epoch 108/200\n",
            "10/10 [==============================] - 0s 3ms/step - loss: 7.6282e-04 - accuracy: 1.0000\n",
            "Epoch 109/200\n",
            "10/10 [==============================] - 0s 3ms/step - loss: 0.0016 - accuracy: 1.0000\n",
            "Epoch 110/200\n",
            "10/10 [==============================] - 0s 3ms/step - loss: 0.0041 - accuracy: 1.0000\n",
            "Epoch 111/200\n",
            "10/10 [==============================] - 0s 3ms/step - loss: 0.0075 - accuracy: 1.0000\n",
            "Epoch 112/200\n",
            "10/10 [==============================] - 0s 3ms/step - loss: 0.0152 - accuracy: 1.0000\n",
            "Epoch 113/200\n",
            "10/10 [==============================] - 0s 3ms/step - loss: 0.0042 - accuracy: 1.0000\n",
            "Epoch 114/200\n",
            "10/10 [==============================] - 0s 3ms/step - loss: 0.0036 - accuracy: 1.0000\n",
            "Epoch 115/200\n",
            "10/10 [==============================] - 0s 3ms/step - loss: 8.0828e-04 - accuracy: 1.0000\n",
            "Epoch 116/200\n",
            "10/10 [==============================] - 0s 3ms/step - loss: 0.0017 - accuracy: 1.0000\n",
            "Epoch 117/200\n",
            "10/10 [==============================] - 0s 4ms/step - loss: 0.0036 - accuracy: 1.0000\n",
            "Epoch 118/200\n",
            "10/10 [==============================] - 0s 3ms/step - loss: 4.9033e-04 - accuracy: 1.0000\n",
            "Epoch 119/200\n",
            "10/10 [==============================] - 0s 4ms/step - loss: 0.0018 - accuracy: 1.0000\n",
            "Epoch 120/200\n",
            "10/10 [==============================] - 0s 4ms/step - loss: 0.0017 - accuracy: 1.0000\n",
            "Epoch 121/200\n",
            "10/10 [==============================] - 0s 4ms/step - loss: 0.0014 - accuracy: 1.0000\n",
            "Epoch 122/200\n",
            "10/10 [==============================] - 0s 3ms/step - loss: 0.0045 - accuracy: 1.0000\n",
            "Epoch 123/200\n",
            "10/10 [==============================] - 0s 4ms/step - loss: 0.0025 - accuracy: 1.0000\n",
            "Epoch 124/200\n",
            "10/10 [==============================] - 0s 3ms/step - loss: 0.0020 - accuracy: 1.0000\n",
            "Epoch 125/200\n",
            "10/10 [==============================] - 0s 4ms/step - loss: 9.9597e-04 - accuracy: 1.0000\n",
            "Epoch 126/200\n",
            "10/10 [==============================] - 0s 3ms/step - loss: 2.0515e-04 - accuracy: 1.0000\n",
            "Epoch 127/200\n",
            "10/10 [==============================] - 0s 4ms/step - loss: 6.6457e-04 - accuracy: 1.0000\n",
            "Epoch 128/200\n",
            "10/10 [==============================] - 0s 4ms/step - loss: 0.0011 - accuracy: 1.0000\n",
            "Epoch 129/200\n",
            "10/10 [==============================] - 0s 3ms/step - loss: 2.4633e-04 - accuracy: 1.0000\n",
            "Epoch 130/200\n",
            "10/10 [==============================] - 0s 3ms/step - loss: 0.0228 - accuracy: 1.0000\n",
            "Epoch 131/200\n",
            "10/10 [==============================] - 0s 3ms/step - loss: 8.0545e-04 - accuracy: 1.0000\n",
            "Epoch 132/200\n",
            "10/10 [==============================] - 0s 3ms/step - loss: 0.0011 - accuracy: 1.0000\n",
            "Epoch 133/200\n",
            "10/10 [==============================] - 0s 3ms/step - loss: 7.2038e-04 - accuracy: 1.0000\n",
            "Epoch 134/200\n",
            "10/10 [==============================] - 0s 3ms/step - loss: 0.0014 - accuracy: 1.0000\n",
            "Epoch 135/200\n",
            "10/10 [==============================] - 0s 3ms/step - loss: 0.0023 - accuracy: 1.0000\n",
            "Epoch 136/200\n",
            "10/10 [==============================] - 0s 4ms/step - loss: 6.6518e-04 - accuracy: 1.0000\n",
            "Epoch 137/200\n",
            "10/10 [==============================] - 0s 4ms/step - loss: 4.9376e-04 - accuracy: 1.0000\n",
            "Epoch 138/200\n",
            "10/10 [==============================] - 0s 4ms/step - loss: 0.0030 - accuracy: 1.0000\n",
            "Epoch 139/200\n",
            "10/10 [==============================] - 0s 5ms/step - loss: 0.0064 - accuracy: 1.0000\n",
            "Epoch 140/200\n",
            "10/10 [==============================] - 0s 4ms/step - loss: 3.1057e-04 - accuracy: 1.0000\n",
            "Epoch 141/200\n",
            "10/10 [==============================] - 0s 3ms/step - loss: 0.0073 - accuracy: 1.0000\n",
            "Epoch 142/200\n",
            "10/10 [==============================] - 0s 3ms/step - loss: 0.0011 - accuracy: 1.0000\n",
            "Epoch 143/200\n",
            "10/10 [==============================] - 0s 4ms/step - loss: 0.0070 - accuracy: 1.0000\n",
            "Epoch 144/200\n",
            "10/10 [==============================] - 0s 3ms/step - loss: 0.0016 - accuracy: 1.0000\n",
            "Epoch 145/200\n",
            "10/10 [==============================] - 0s 4ms/step - loss: 7.5870e-04 - accuracy: 1.0000\n",
            "Epoch 146/200\n",
            "10/10 [==============================] - 0s 3ms/step - loss: 6.6988e-04 - accuracy: 1.0000\n",
            "Epoch 147/200\n",
            "10/10 [==============================] - 0s 4ms/step - loss: 7.2088e-04 - accuracy: 1.0000\n",
            "Epoch 148/200\n",
            "10/10 [==============================] - 0s 4ms/step - loss: 3.1708e-04 - accuracy: 1.0000\n",
            "Epoch 149/200\n",
            "10/10 [==============================] - 0s 4ms/step - loss: 0.0039 - accuracy: 1.0000\n",
            "Epoch 150/200\n",
            "10/10 [==============================] - 0s 4ms/step - loss: 6.7324e-04 - accuracy: 1.0000\n",
            "Epoch 151/200\n",
            "10/10 [==============================] - 0s 4ms/step - loss: 0.0062 - accuracy: 1.0000\n",
            "Epoch 152/200\n",
            "10/10 [==============================] - 0s 3ms/step - loss: 3.1265e-04 - accuracy: 1.0000\n",
            "Epoch 153/200\n",
            "10/10 [==============================] - 0s 3ms/step - loss: 4.0851e-04 - accuracy: 1.0000\n",
            "Epoch 154/200\n",
            "10/10 [==============================] - 0s 3ms/step - loss: 5.6880e-04 - accuracy: 1.0000\n",
            "Epoch 155/200\n",
            "10/10 [==============================] - 0s 4ms/step - loss: 0.0027 - accuracy: 1.0000\n",
            "Epoch 156/200\n",
            "10/10 [==============================] - 0s 4ms/step - loss: 3.0437e-04 - accuracy: 1.0000\n",
            "Epoch 157/200\n",
            "10/10 [==============================] - 0s 4ms/step - loss: 2.4274e-04 - accuracy: 1.0000\n",
            "Epoch 158/200\n",
            "10/10 [==============================] - 0s 3ms/step - loss: 0.0015 - accuracy: 1.0000\n",
            "Epoch 159/200\n",
            "10/10 [==============================] - 0s 4ms/step - loss: 0.0015 - accuracy: 1.0000\n",
            "Epoch 160/200\n",
            "10/10 [==============================] - 0s 3ms/step - loss: 0.0116 - accuracy: 1.0000\n",
            "Epoch 161/200\n",
            "10/10 [==============================] - 0s 5ms/step - loss: 6.4051e-04 - accuracy: 1.0000\n",
            "Epoch 162/200\n",
            "10/10 [==============================] - 0s 4ms/step - loss: 3.6954e-04 - accuracy: 1.0000\n",
            "Epoch 163/200\n",
            "10/10 [==============================] - 0s 4ms/step - loss: 0.0077 - accuracy: 1.0000\n",
            "Epoch 164/200\n",
            "10/10 [==============================] - 0s 3ms/step - loss: 0.0014 - accuracy: 1.0000\n",
            "Epoch 165/200\n",
            "10/10 [==============================] - 0s 3ms/step - loss: 0.0014 - accuracy: 1.0000\n",
            "Epoch 166/200\n",
            "10/10 [==============================] - 0s 3ms/step - loss: 9.2255e-04 - accuracy: 1.0000\n",
            "Epoch 167/200\n",
            "10/10 [==============================] - 0s 4ms/step - loss: 9.5577e-05 - accuracy: 1.0000\n",
            "Epoch 168/200\n",
            "10/10 [==============================] - 0s 4ms/step - loss: 0.0016 - accuracy: 1.0000\n",
            "Epoch 169/200\n",
            "10/10 [==============================] - 0s 5ms/step - loss: 2.5561e-04 - accuracy: 1.0000\n",
            "Epoch 170/200\n",
            "10/10 [==============================] - 0s 4ms/step - loss: 0.0011 - accuracy: 1.0000\n",
            "Epoch 171/200\n",
            "10/10 [==============================] - 0s 3ms/step - loss: 0.0011 - accuracy: 1.0000\n",
            "Epoch 172/200\n",
            "10/10 [==============================] - 0s 3ms/step - loss: 2.3775e-04 - accuracy: 1.0000\n",
            "Epoch 173/200\n",
            "10/10 [==============================] - 0s 3ms/step - loss: 2.4689e-04 - accuracy: 1.0000\n",
            "Epoch 174/200\n",
            "10/10 [==============================] - 0s 3ms/step - loss: 1.9039e-04 - accuracy: 1.0000\n",
            "Epoch 175/200\n",
            "10/10 [==============================] - 0s 4ms/step - loss: 1.9806e-04 - accuracy: 1.0000\n",
            "Epoch 176/200\n",
            "10/10 [==============================] - 0s 4ms/step - loss: 1.1991e-04 - accuracy: 1.0000\n",
            "Epoch 177/200\n",
            "10/10 [==============================] - 0s 4ms/step - loss: 1.1153e-04 - accuracy: 1.0000\n",
            "Epoch 178/200\n",
            "10/10 [==============================] - 0s 3ms/step - loss: 6.8757e-04 - accuracy: 1.0000\n",
            "Epoch 179/200\n",
            "10/10 [==============================] - 0s 4ms/step - loss: 0.0032 - accuracy: 1.0000\n",
            "Epoch 180/200\n",
            "10/10 [==============================] - 0s 3ms/step - loss: 0.0012 - accuracy: 1.0000\n",
            "Epoch 181/200\n",
            "10/10 [==============================] - 0s 4ms/step - loss: 3.6613e-04 - accuracy: 1.0000\n",
            "Epoch 182/200\n",
            "10/10 [==============================] - 0s 4ms/step - loss: 4.3371e-04 - accuracy: 1.0000\n",
            "Epoch 183/200\n",
            "10/10 [==============================] - 0s 7ms/step - loss: 9.9198e-04 - accuracy: 1.0000\n",
            "Epoch 184/200\n",
            "10/10 [==============================] - 0s 4ms/step - loss: 0.0020 - accuracy: 1.0000\n",
            "Epoch 185/200\n",
            "10/10 [==============================] - 0s 3ms/step - loss: 5.7939e-05 - accuracy: 1.0000\n",
            "Epoch 186/200\n",
            "10/10 [==============================] - 0s 3ms/step - loss: 0.0013 - accuracy: 1.0000\n",
            "Epoch 187/200\n",
            "10/10 [==============================] - 0s 4ms/step - loss: 0.0016 - accuracy: 1.0000\n",
            "Epoch 188/200\n",
            "10/10 [==============================] - 0s 4ms/step - loss: 3.2613e-04 - accuracy: 1.0000\n",
            "Epoch 189/200\n",
            "10/10 [==============================] - 0s 4ms/step - loss: 0.0060 - accuracy: 1.0000\n",
            "Epoch 190/200\n",
            "10/10 [==============================] - 0s 4ms/step - loss: 3.0586e-04 - accuracy: 1.0000\n",
            "Epoch 191/200\n",
            "10/10 [==============================] - 0s 5ms/step - loss: 2.3214e-04 - accuracy: 1.0000\n",
            "Epoch 192/200\n",
            "10/10 [==============================] - 0s 4ms/step - loss: 1.5395e-04 - accuracy: 1.0000\n",
            "Epoch 193/200\n",
            "10/10 [==============================] - 0s 3ms/step - loss: 0.0019 - accuracy: 1.0000\n",
            "Epoch 194/200\n",
            "10/10 [==============================] - 0s 4ms/step - loss: 8.7452e-04 - accuracy: 1.0000\n",
            "Epoch 195/200\n",
            "10/10 [==============================] - 0s 4ms/step - loss: 1.3582e-04 - accuracy: 1.0000\n",
            "Epoch 196/200\n",
            "10/10 [==============================] - 0s 4ms/step - loss: 0.0012 - accuracy: 1.0000\n",
            "Epoch 197/200\n",
            "10/10 [==============================] - 0s 3ms/step - loss: 0.0030 - accuracy: 1.0000\n",
            "Epoch 198/200\n",
            "10/10 [==============================] - 0s 3ms/step - loss: 1.5702e-04 - accuracy: 1.0000\n",
            "Epoch 199/200\n",
            "10/10 [==============================] - 0s 3ms/step - loss: 1.4598e-04 - accuracy: 1.0000\n",
            "Epoch 200/200\n",
            "10/10 [==============================] - 0s 3ms/step - loss: 6.8341e-04 - accuracy: 1.0000\n"
          ],
          "name": "stdout"
        }
      ]
    },
    {
      "cell_type": "code",
      "metadata": {
        "colab": {
          "base_uri": "https://localhost:8080/"
        },
        "id": "b8nI0CWFmi2f",
        "outputId": "fc60b409-655d-4f38-ac45-6ce28bd60143"
      },
      "source": [
        "model.save('model.h5',hist)#saving the model\n",
        "print('model saved')"
      ],
      "execution_count": 107,
      "outputs": [
        {
          "output_type": "stream",
          "text": [
            "model saved\n"
          ],
          "name": "stdout"
        }
      ]
    },
    {
      "cell_type": "markdown",
      "metadata": {
        "id": "581zVNg8m4Cl"
      },
      "source": [
        "##Predicting "
      ]
    },
    {
      "cell_type": "code",
      "metadata": {
        "id": "M5A9DpTgz4GW"
      },
      "source": [
        "def clean_up(sent):\n",
        "  return  [lem.lemmatize(w.lower()) for w in  nltk.word_tokenize(sent)]"
      ],
      "execution_count": 108,
      "outputs": []
    },
    {
      "cell_type": "code",
      "metadata": {
        "id": "DEENgSoA0aZp"
      },
      "source": [
        "def bow(sentence):#creating a bow for input sent\n",
        "  sentence = sentence\n",
        "  bow = np.zeros(len(words))\n",
        "\n",
        "  for s in sentence:\n",
        "    for i,w in enumerate(words):\n",
        "      if w == s:\n",
        "        bow [i] = 1 \n",
        "\n",
        "  return(bow)"
      ],
      "execution_count": 109,
      "outputs": []
    },
    {
      "cell_type": "code",
      "metadata": {
        "id": "ywj8kith3isM"
      },
      "source": [
        "def predict(sent,model):\n",
        "  p = bow(sent)\n",
        "  pred = model.predict(np.array([p]))[0]\n",
        "  \n",
        "  thrsh = 0.30 #leave the predictions below this thrshold\n",
        "  res = [[i,j] for i,j in enumerate(pred) if j > thrsh]\n",
        "  res.sort(key= lambda x:x[1],reverse=True)#sorting the predictions\n",
        "  result_lis = []\n",
        "  for key,val in res:\n",
        "    result_lis.append({'intent':classes[key],'prob':str(val)})\n",
        "\n",
        "  return result_lis"
      ],
      "execution_count": 110,
      "outputs": []
    },
    {
      "cell_type": "code",
      "metadata": {
        "colab": {
          "base_uri": "https://localhost:8080/"
        },
        "id": "0LV4aDGx5ndf",
        "outputId": "fd542115-2e4a-4d47-d0af-c42c47370a7e"
      },
      "source": [
        "predict('Hi there Hello',model)"
      ],
      "execution_count": 111,
      "outputs": [
        {
          "output_type": "execute_result",
          "data": {
            "text/plain": [
              "[{'intent': 'greeting', 'prob': '0.53335714'},\n",
              " {'intent': 'goodbye', 'prob': '0.3478233'}]"
            ]
          },
          "metadata": {
            "tags": []
          },
          "execution_count": 111
        }
      ]
    },
    {
      "cell_type": "code",
      "metadata": {
        "id": "7oRvce9j8f0r"
      },
      "source": [
        "def get_response(intn,int_json):\n",
        "  \n",
        "  tag = intn[0]['intent']\n",
        "  listOfTag = int_json['intents']\n",
        "  for i in listOfTag:\n",
        "    if (tag == i['tag']):\n",
        "      pred = random.choice(i['responses'])\n",
        "      break\n",
        "  return pred"
      ],
      "execution_count": 112,
      "outputs": []
    },
    {
      "cell_type": "code",
      "metadata": {
        "id": "5aFDizgL_GDZ"
      },
      "source": [
        "def chatbot(msg):\n",
        "  int = predict(msg,model)\n",
        "  res = get_response(int,intents)\n",
        "  return res"
      ],
      "execution_count": 113,
      "outputs": []
    },
    {
      "cell_type": "code",
      "metadata": {
        "colab": {
          "base_uri": "https://localhost:8080/",
          "height": 35
        },
        "id": "HEDOlkLU_TFR",
        "outputId": "524f21c8-46cc-480f-caee-c82fb4d86693"
      },
      "source": [
        "chatbot(\"Hi\")#getting response"
      ],
      "execution_count": 114,
      "outputs": [
        {
          "output_type": "execute_result",
          "data": {
            "application/vnd.google.colaboratory.intrinsic+json": {
              "type": "string"
            },
            "text/plain": [
              "'Good to see you again'"
            ]
          },
          "metadata": {
            "tags": []
          },
          "execution_count": 114
        }
      ]
    },
    {
      "cell_type": "markdown",
      "metadata": {
        "id": "XS3J-Hp-CrvR"
      },
      "source": [
        "## Chatbot gui\n",
        "###Note:\n",
        "      Colab can't run below code code."
      ]
    },
    {
      "cell_type": "code",
      "metadata": {
        "id": "8BHM-nHUCqAu"
      },
      "source": [
        "#Creating GUI with tkinter\n",
        "import tkinter\n",
        "from tkinter import *\n",
        "\n",
        "\n",
        "def send():\n",
        "    msg = EntryBox.get(\"1.0\",'end-1c').strip()\n",
        "    EntryBox.delete(\"0.0\",END)\n",
        "\n",
        "    if msg != '':\n",
        "        ChatLog.config(state=NORMAL)\n",
        "        ChatLog.insert(END, \"You: \" + msg + '\\n\\n')\n",
        "        ChatLog.config(foreground=\"#442265\", font=(\"Verdana\", 12 ))\n",
        "    \n",
        "        res = chatbot_response(msg)\n",
        "        ChatLog.insert(END, \"Bot: \" + res + '\\n\\n')\n",
        "            \n",
        "        ChatLog.config(state=DISABLED)\n",
        "        ChatLog.yview(END)\n",
        " \n",
        "\n",
        "base = Tk()\n",
        "base.title(\"Hello\")\n",
        "base.geometry(\"400x500\")\n",
        "base.resizable(width=FALSE, height=FALSE)\n",
        "\n",
        "#Create Chat window\n",
        "ChatLog = Text(base, bd=0, bg=\"white\", height=\"8\", width=\"50\", font=\"Arial\",)\n",
        "\n",
        "ChatLog.config(state=DISABLED)\n",
        "\n",
        "#Bind scrollbar to Chat window\n",
        "scrollbar = Scrollbar(base, command=ChatLog.yview, cursor=\"heart\")\n",
        "ChatLog['yscrollcommand'] = scrollbar.set\n",
        "\n",
        "#Create Button to send message\n",
        "SendButton = Button(base, font=(\"Verdana\",12,'bold'), text=\"Send\", width=\"12\", height=5,\n",
        "                    bd=0, bg=\"#32de97\", activebackground=\"#3c9d9b\",fg='#ffffff',\n",
        "                    command= send )\n",
        "\n",
        "#Create the box to enter message\n",
        "EntryBox = Text(base, bd=0, bg=\"white\",width=\"29\", height=\"5\", font=\"Arial\")\n",
        "#EntryBox.bind(\"<Return>\", send)\n",
        "\n",
        "\n",
        "#Place all components on the screen\n",
        "scrollbar.place(x=376,y=6, height=386)\n",
        "ChatLog.place(x=6,y=6, height=386, width=370)\n",
        "EntryBox.place(x=128, y=401, height=90, width=265)\n",
        "SendButton.place(x=6, y=401, height=90)\n",
        "\n",
        "base.mainloop()"
      ],
      "execution_count": null,
      "outputs": []
    }
  ]
}
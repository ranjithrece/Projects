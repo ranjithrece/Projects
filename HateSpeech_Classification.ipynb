{
  "nbformat": 4,
  "nbformat_minor": 0,
  "metadata": {
    "colab": {
      "name": "HateSpeech Classification.ipynb",
      "provenance": [],
      "collapsed_sections": [],
      "mount_file_id": "1coOY4VfotxQl3312ySnXyPwyRVAUUR_l",
      "authorship_tag": "ABX9TyOo50xaCOyJEZlM9hUAeDG7",
      "include_colab_link": true
    },
    "kernelspec": {
      "name": "python3",
      "display_name": "Python 3"
    },
    "language_info": {
      "name": "python"
    }
  },
  "cells": [
    {
      "cell_type": "markdown",
      "metadata": {
        "id": "view-in-github",
        "colab_type": "text"
      },
      "source": [
        "<a href=\"https://colab.research.google.com/github/ranjithrece/Projects/blob/main/HateSpeech_Classification.ipynb\" target=\"_parent\"><img src=\"https://colab.research.google.com/assets/colab-badge.svg\" alt=\"Open In Colab\"/></a>"
      ]
    },
    {
      "cell_type": "code",
      "metadata": {
        "id": "RMEutgtiuUFO"
      },
      "source": [
        "import numpy as np #importing libraries\n",
        "import pandas as pd\n",
        "import wordcloud\n",
        "from wordcloud import WordCloud,ImageColorGenerator\n",
        "from nltk.stem import  PorterStemmer\n",
        "import re\n",
        "from PIL import Image\n",
        "import urllib\n",
        "import requests\n",
        "import warnings\n",
        "\n",
        "warnings.filterwarnings('ignore')"
      ],
      "execution_count": 197,
      "outputs": []
    },
    {
      "cell_type": "code",
      "metadata": {
        "colab": {
          "base_uri": "https://localhost:8080/"
        },
        "id": "LoIAQOzXvKf8",
        "outputId": "813b4aef-55a5-4703-fb2b-7eeba30a1359"
      },
      "source": [
        "stem = PorterStemmer()\n",
        "#reading a .txt list of stopwords into a python list (stopwords were taken from https://github.com/bieli/stopwords)\n",
        "stopwords = open('/content/drive/MyDrive/Datasets/Stopword_en.txt').read().splitlines()\n",
        "def cleanall(df):\n",
        "\n",
        "  df = pd.Series(df)\n",
        "\n",
        "  df = df.str.lower()\n",
        "  def clean_pattern(text,pattern):\n",
        "\n",
        "      #finding the patterns\n",
        "      r = re.findall(pattern,text)\n",
        "\n",
        "      #substuting the pattern with \"\"\n",
        "      for i in r:\n",
        "          text = re.sub(i,\"\",text)\n",
        "\n",
        "      return text\n",
        "\n",
        "\n",
        "\n",
        "\n",
        "    #removing user name in the tweet\n",
        "  df = np.vectorize(clean_pattern)(df,'@[\\w]*')\n",
        "   \n",
        "   #we alse remove links for better classification\n",
        "  df = np.vectorize(clean_pattern)(df,'https://t.co/[\\w\\.]*|http://[\\w\\.]*') \n",
        "  df = np.vectorize(clean_pattern)(df,'#[\\w]*')\n",
        "\n",
        "\n",
        "\n",
        "  df = pd.Series(df)\n",
        "\n",
        "  df = df.str.replace('[^\\w]', \" \")#replacing the special charecters with empty spaces\n",
        "  df = df.str.replace(\"[0-9]\", \" \")#replacing numbers\n",
        "  df = df.str.replace(' rt', \" \")\n",
        " \n",
        "\n",
        "  df = df.apply(lambda x: x.split())#spliting tweets in to tokens\n",
        "\n",
        "  for i in range(len(df)):\n",
        "    df[i] = [stem.stem(j) for j in df[i] if j not in stopwords]#stemming the words eg. 'running' to 'run'\n",
        "    \n",
        "\n",
        "  for i in range(len(df)) :\n",
        "    df[i] = ' '.join(df[i])#changing the tokens to sentence\n",
        "\n",
        "  return df\n",
        "\n",
        "cleanall('hi iam running at http://google.com and enjoying netflix right now')"
      ],
      "execution_count": 147,
      "outputs": [
        {
          "output_type": "execute_result",
          "data": {
            "text/plain": [
              "0    hi iam run enjoy netflix right\n",
              "dtype: object"
            ]
          },
          "metadata": {},
          "execution_count": 147
        }
      ]
    },
    {
      "cell_type": "code",
      "metadata": {
        "colab": {
          "base_uri": "https://localhost:8080/",
          "height": 200
        },
        "id": "iHrPOaa7AryN",
        "outputId": "ff7b994f-2249-4f67-c026-9cc0542b9d35"
      },
      "source": [
        "speech = pd.read_csv('/content/drive/MyDrive/Datasets/hatefull_text.csv')#reding the dataset\n",
        "speech.head()"
      ],
      "execution_count": 26,
      "outputs": [
        {
          "output_type": "execute_result",
          "data": {
            "text/html": [
              "<div>\n",
              "<style scoped>\n",
              "    .dataframe tbody tr th:only-of-type {\n",
              "        vertical-align: middle;\n",
              "    }\n",
              "\n",
              "    .dataframe tbody tr th {\n",
              "        vertical-align: top;\n",
              "    }\n",
              "\n",
              "    .dataframe thead th {\n",
              "        text-align: right;\n",
              "    }\n",
              "</style>\n",
              "<table border=\"1\" class=\"dataframe\">\n",
              "  <thead>\n",
              "    <tr style=\"text-align: right;\">\n",
              "      <th></th>\n",
              "      <th>Unnamed: 0</th>\n",
              "      <th>tweet</th>\n",
              "      <th>class</th>\n",
              "    </tr>\n",
              "  </thead>\n",
              "  <tbody>\n",
              "    <tr>\n",
              "      <th>0</th>\n",
              "      <td>0</td>\n",
              "      <td>!!! RT @mayasolovely: As a woman you shouldn't...</td>\n",
              "      <td>neither</td>\n",
              "    </tr>\n",
              "    <tr>\n",
              "      <th>1</th>\n",
              "      <td>1</td>\n",
              "      <td>!!!!! RT @mleew17: boy dats cold...tyga dwn ba...</td>\n",
              "      <td>offensive_language</td>\n",
              "    </tr>\n",
              "    <tr>\n",
              "      <th>2</th>\n",
              "      <td>2</td>\n",
              "      <td>!!!!!!! RT @UrKindOfBrand Dawg!!!! RT @80sbaby...</td>\n",
              "      <td>offensive_language</td>\n",
              "    </tr>\n",
              "    <tr>\n",
              "      <th>3</th>\n",
              "      <td>3</td>\n",
              "      <td>!!!!!!!!! RT @C_G_Anderson: @viva_based she lo...</td>\n",
              "      <td>offensive_language</td>\n",
              "    </tr>\n",
              "    <tr>\n",
              "      <th>4</th>\n",
              "      <td>4</td>\n",
              "      <td>!!!!!!!!!!!!! RT @ShenikaRoberts: The shit you...</td>\n",
              "      <td>offensive_language</td>\n",
              "    </tr>\n",
              "  </tbody>\n",
              "</table>\n",
              "</div>"
            ],
            "text/plain": [
              "   Unnamed: 0  ...               class\n",
              "0           0  ...             neither\n",
              "1           1  ...  offensive_language\n",
              "2           2  ...  offensive_language\n",
              "3           3  ...  offensive_language\n",
              "4           4  ...  offensive_language\n",
              "\n",
              "[5 rows x 3 columns]"
            ]
          },
          "metadata": {},
          "execution_count": 26
        }
      ]
    },
    {
      "cell_type": "code",
      "metadata": {
        "id": "vw7JLNucdvv0"
      },
      "source": [
        "#extracting tweeet and class\n",
        "label = speech['class']\n",
        "\n",
        "speech_df = cleanall(speech['tweet'])#cleaning the tweet"
      ],
      "execution_count": 29,
      "outputs": []
    },
    {
      "cell_type": "code",
      "metadata": {
        "id": "ISIB4XMVz-Qn"
      },
      "source": [
        "negative = \" \".join(i for i in speech[speech['class'] != 'neither']['tweet'])"
      ],
      "execution_count": 186,
      "outputs": []
    },
    {
      "cell_type": "code",
      "metadata": {
        "colab": {
          "base_uri": "https://localhost:8080/",
          "height": 35
        },
        "id": "bovxcjD30ok3",
        "outputId": "16fe7796-6b79-486f-eeea-99ff59ad423d"
      },
      "source": [
        "negative[:100]"
      ],
      "execution_count": 184,
      "outputs": [
        {
          "output_type": "execute_result",
          "data": {
            "application/vnd.google.colaboratory.intrinsic+json": {
              "type": "string"
            },
            "text/plain": [
              "'boy dat cold tyga dwn bad cuffin dat hoe st place dawg fuck bitch start confus shit look tranni shit'"
            ]
          },
          "metadata": {},
          "execution_count": 184
        }
      ]
    },
    {
      "cell_type": "markdown",
      "metadata": {
        "id": "OjoomiSO18_4"
      },
      "source": [
        "##visualizing negative words"
      ]
    },
    {
      "cell_type": "code",
      "metadata": {
        "colab": {
          "base_uri": "https://localhost:8080/"
        },
        "id": "Qe5Yhf0ZeRRt",
        "outputId": "3c7076c0-103e-44d8-a854-4e758275ed03"
      },
      "source": [
        "mask = np.array(Image.open(requests.get('http://clipart-library.com/image_gallery2/Twitter-PNG-Image.png',stream=True).raw))#getting the twitter image\n",
        "\n",
        "image = ImageColorGenerator(mask)\n",
        "\n",
        "wc = WordCloud(background_color='white', height=1500, width=4000,mask=Mask).generate(negative)#generating the word cloud\n",
        "wc.to_file('wordcloud.png')\n"
      ],
      "execution_count": 187,
      "outputs": [
        {
          "output_type": "execute_result",
          "data": {
            "text/plain": [
              "<wordcloud.wordcloud.WordCloud at 0x7f3f8d9da890>"
            ]
          },
          "metadata": {},
          "execution_count": 187
        }
      ]
    },
    {
      "cell_type": "code",
      "metadata": {
        "id": "ERZjfrFTfkdH"
      },
      "source": [
        "from sklearn.model_selection import train_test_split# importing models for model building\n",
        "from sklearn.feature_extraction.text import TfidfVectorizer\n",
        "from sklearn.linear_model import LogisticRegression\n",
        "from sklearn.metrics import confusion_matrix"
      ],
      "execution_count": 191,
      "outputs": []
    },
    {
      "cell_type": "code",
      "metadata": {
        "id": "94rSFmwRf7CC"
      },
      "source": [
        "X_train,X_test,y_train,y_test = train_test_split(speech_df,label,stratify = label,random_state = 0,test_size = 0.25)#spliting the data"
      ],
      "execution_count": 80,
      "outputs": []
    },
    {
      "cell_type": "code",
      "metadata": {
        "colab": {
          "base_uri": "https://localhost:8080/"
        },
        "id": "-cK6Y8xigOcx",
        "outputId": "a5b6f39e-4add-4e8d-9129-d316e2373fa0"
      },
      "source": [
        "X_train.shape,X_test.shape,y_train.shape"
      ],
      "execution_count": 81,
      "outputs": [
        {
          "output_type": "execute_result",
          "data": {
            "text/plain": [
              "((18587,), (6196,), (18587,))"
            ]
          },
          "metadata": {},
          "execution_count": 81
        }
      ]
    },
    {
      "cell_type": "markdown",
      "metadata": {
        "id": "s-eP1yEPwNRH"
      },
      "source": [
        "## Fitting and Vectorizing"
      ]
    },
    {
      "cell_type": "code",
      "metadata": {
        "id": "L2pzVEU5gbQl"
      },
      "source": [
        "tfidf = TfidfVectorizer(max_features=1000,max_df=0.80,min_df=2)#vectorizing the tweet eg. how much time each words ocuured on document\n",
        "\n",
        "#transforming into vectors\n",
        "tfidf_train = tfidf.fit_transform(X_train)\n",
        "tfidf_test = tfidf.transform(X_test)"
      ],
      "execution_count": 169,
      "outputs": []
    },
    {
      "cell_type": "code",
      "metadata": {
        "colab": {
          "base_uri": "https://localhost:8080/"
        },
        "id": "ZIbL0ca5jGe1",
        "outputId": "ac861bdb-76e7-41ee-ad78-9feb41b38703"
      },
      "source": [
        "tfidf_train.toarray().shape"
      ],
      "execution_count": 170,
      "outputs": [
        {
          "output_type": "execute_result",
          "data": {
            "text/plain": [
              "(18587, 1000)"
            ]
          },
          "metadata": {},
          "execution_count": 170
        }
      ]
    },
    {
      "cell_type": "markdown",
      "metadata": {
        "id": "nFi6n_iV2gU9"
      },
      "source": [
        "##Logistic Regression"
      ]
    },
    {
      "cell_type": "code",
      "metadata": {
        "colab": {
          "base_uri": "https://localhost:8080/"
        },
        "id": "IFR5eFzehyAY",
        "outputId": "6ac57219-d742-43af-def3-c21360b1a678"
      },
      "source": [
        "log = LogisticRegression(random_state=0,fit_intercept=False,max_iter=250,)\n",
        "log.fit(tfidf_train,y_train)\n",
        "print('Train Score : ',end='\\b')\n",
        "log.score(tfidf_train,y_train)"
      ],
      "execution_count": 188,
      "outputs": [
        {
          "output_type": "stream",
          "name": "stdout",
          "text": [
            "Train Score : \b"
          ]
        },
        {
          "output_type": "execute_result",
          "data": {
            "text/plain": [
              "0.9715392478614086"
            ]
          },
          "metadata": {},
          "execution_count": 188
        }
      ]
    },
    {
      "cell_type": "code",
      "metadata": {
        "colab": {
          "base_uri": "https://localhost:8080/"
        },
        "id": "Dq0AoTyZiAdL",
        "outputId": "44429103-95f4-459b-db50-e5e03a890c87"
      },
      "source": [
        "\n",
        "score = log.score(tfidf_test,y_test)\n",
        "print('Test Score : ',score)\n",
        "pred = log.predict(tfidf_test)\n",
        "\n",
        "confusion_matrix(pred,y_test,labels=['hate_speech', 'neither', 'offensive_language'])"
      ],
      "execution_count": 196,
      "outputs": [
        {
          "output_type": "stream",
          "name": "stdout",
          "text": [
            "Test Score :  0.9580374435119432\n"
          ]
        },
        {
          "output_type": "execute_result",
          "data": {
            "text/plain": [
              "array([[  54,   18,   28],\n",
              "       [  13, 1081,   60],\n",
              "       [  67,   74, 4801]])"
            ]
          },
          "metadata": {},
          "execution_count": 196
        }
      ]
    },
    {
      "cell_type": "markdown",
      "metadata": {
        "id": "xHQfNDeLwF52"
      },
      "source": [
        "##Evaluating"
      ]
    },
    {
      "cell_type": "code",
      "metadata": {
        "colab": {
          "base_uri": "https://localhost:8080/"
        },
        "id": "q-eRAihLp_VA",
        "outputId": "51bcf714-346b-4117-eb40-22c84f0f17c8"
      },
      "source": [
        "eval = cleanall(pd.Series(['i hate you nigger','spread love and peace', 'you bitch']))\n",
        "x = tfidf.transform(eval)\n",
        "log.predict(x)"
      ],
      "execution_count": 175,
      "outputs": [
        {
          "output_type": "execute_result",
          "data": {
            "text/plain": [
              "array(['hate_speech', 'neither', 'offensive_language'], dtype=object)"
            ]
          },
          "metadata": {},
          "execution_count": 175
        }
      ]
    }
  ]
}